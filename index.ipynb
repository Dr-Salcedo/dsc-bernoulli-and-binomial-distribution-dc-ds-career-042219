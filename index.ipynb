{
 "cells": [
  {
   "cell_type": "markdown",
   "metadata": {},
   "source": [
    "# Bernoulli and Binomial Distribution\n",
    "\n",
    "## Introduction\n",
    "\n",
    "Now that you learned about PMFs, PDFs, and CDFs, let's dive into the world of distributions! In this \n",
    "In this section, you'll learn about 2 foundational probability distributions that are extremely useful and have an endless amount of applications: the Bernoulli distribution and the Binomial distribution. You'll notice that these distributions formalize a lot of the theory you learned in the probability theory section! \n",
    "\n",
    "\n",
    "## Objectives\n",
    "\n",
    "You will be able to:\n",
    "\n",
    "- Understand that the Bernoulli experiment is one of the basic distributions\n",
    "- Understand how a Bernoulli experiment can describe a coin flip, and that it can be extended to other applications\n",
    "- Learn what it means when events are independent\n",
    "- Learn that the binomial distribution models a sequence of independent Bernoulli events\n",
    "- Understand how to use NumPy to randomly generate Binomial and Bernoulli trials\n",
    "- Use Matplotlib to show the output of generated Binomial and Bernoulli trials\n",
    "\n",
    "\n",
    "## The Bernoulli or Binary distribution\n",
    "\n",
    "In the previous sections, we discussed several probability theory situations regarding throwing a dice or throwing a coin. The Bernoulli distribution is a discrete distribution that formalizes the idea of a coin flip. \n",
    "\n",
    "The Bernoulli experiment is a simple experiment in which there is a binary\n",
    "outcome: 0-1, success-failure, head-tail, etc. \n",
    "\n",
    "As the Bernoulli experiment has two potential outcomes: 0 or 1, and if we would model a coin flip, we could say that 0 means heads, and 1 tails. With a fair coin, obtaining either value when performing a coin toss would have an assigned probability of 0.5. The Bernoulli experiment can also describe events with different probability structures. For example, let's say that the chance of scoring a penalty goal is 80%. Where $Y$ is the penalty outcome:\n",
    "\n",
    "$Y = Bernoulli(p)$ and $p=P(Y=1)=0.8$.\n",
    "\n",
    "The distribution is defined by 1 parameter, the parameter $p$, describing the chance of \"success\".\n",
    "\n",
    "Let's look at the PMF and the CDF when $p=0.8$.\n",
    "\n",
    "<img src=\"images/bernoulli_plot.png\" width =\"300\">\n",
    "\n",
    "As you can see these functions look pretty straightforward when you plot them.\n",
    "\n",
    "Now, what is the mean and the variance of these functions? Recall that\n",
    "\n",
    "\n",
    "$E(X) = \\mu = \\sum_i p(x_i)x_i= 0.2*0+0.8*1=0.8$\n",
    "\n",
    "$ E((X-\\mu)^2) = \\sigma^2 = \\sum_i p(x_i)(x_i-\\mu)^2 = 0.2*(-0.8)^2+0.8*(0.2)^2 = (0.8*0.2)*(0.2+0.8) = 0.16$\n",
    "\n",
    "A general rule for the Bernoulli distribution is that: $E(X)=p$ and $\\sigma^2=p*(1-p)$.\n",
    "\n",
    "Note how the Bernoulli distribution describes a single coin flip, a single penalty shot, etc. What if we repeat this process multiple times and are interested in the probability to obtain a certain number of 1s/successes/tails? This process is described by the **binomial distribution**.\n",
    "\n",
    "## The Binomial distribution\n",
    "\n",
    "The binomial distribution describes the process of performing $n$ *independent* Bernoulli trials. So what does it mean that the trials are independent?\n",
    "\n",
    "When we say that events are **independent, this means that an event is not affected by previous events**.\n",
    "\n",
    "Applying this to our penalty goal example, this means that the assumption is that, when a soccer player misses a penalty and then tries again, the fact that he missed it the previous time does not affect his chances of hitting it now: the probability is still 80% ($p=0.8$)!\n",
    "\n",
    "\n",
    "As we have a repeated Bernoulli experiment, the binomial distribution has two parameters: $p$ (the success probability) and $n$ (the number of times the experiment is repeated). We say that random variable $Y$ follows a Binomial distribution:\n",
    "$ Y = bin(n, p)$. \n",
    "\n",
    "\n",
    "Now we're interested in finding an expression that gives us the probability to find each possible amount of successes $k$ between 0 and n. Going back to our goal penalties example, imagine we still have $p = 0.8$, but have 3 consecutive penalty shots. What is:\n",
    "- $P(Y=0)$ (or the soccer player doesn't score a single time)?\n",
    "- $P(Y=1)$ (or the soccer player scores exactly once)?\n",
    "- $P(Y=2)$ (or the soccer player scores exactly twice)?\n",
    "- $P(Y=3)$ (or the soccer player scores exactly three times)?\n",
    "\n",
    "\n",
    "Calculating $P(Y=0)$ is pretty easy, it's simply $0.2*0.2*0.2$, so 0.008. \n",
    "\n",
    "Getting to $P(Y=1)$ is a little bit more complicated. It's essentially $0.8*0.2*0.2+0.2*0.8*0.2+ 0.2*0.2*0.8$, so it's the probability of scoring during the first shot, or the second shot, or the third shot. So essentially, its $3*(0.8*0.2*0.2)$. You can see how combinatorics play a role here! The general formula is given as follows:\n",
    "\n",
    "$$ P(Y=k)= \\binom{n}{k} p^k(1-p)^{(n-k)}$$ \n",
    "\n",
    "\n",
    "Where $k$ denites the number of successes. Applying this on $P(Y=2)$ we get $ P(Y=2)= \\binom{3}{2} 0.8^2(1-0.8)^{(3-2)} = \\dfrac{3!}{2!1!}*0.8^2 * 0.2^1 = 3*0.8^2*0.2$. Repeating this for the other discrete values between 0 and 3, you get:\n",
    "\n",
    "- $P(Y=0)=0.008$\n",
    "- $P(Y=1)=0.096 $ \n",
    "- $P(Y=2)=0.384 $ \n",
    "- $P(Y=3)=0.512$ \n",
    "\n",
    "\n",
    "Note how they sum to one, which is exactly what's expected! Let's look at their PMF and CDF.\n",
    "\n",
    "\n",
    "<img src=\"images/binomial_pl.png\" width =\"500\">\n",
    "\n",
    "\n",
    "Just like before, let's look at the mean and variance:\n",
    "\n",
    "$E(X) = \\mu = \\sum_i p(x_i)x_i= 0.008*0+0.096*1+0.384*2+0.512*3 = 2.4 $\n",
    "\n",
    "$ E((X-\\mu)^2) = \\sigma^2 = \\sum_i p(x_i)(x_i-\\mu)^2 =0.008*(-2.4)^2+0.096*(-1.4)^2+ 0.384*(-0.4)^2+0.512 *0.6^2 = 0.48$\n",
    "\n",
    "\n",
    "Very similarly to Bernoulli, a general rule for the Binomial distribution is that: $E(X)=n*p$ and $\\sigma^2=n*p*(1-p)$. You simply multiply your results with the number of trials $n$!\n",
    "\n",
    "## Use NumPy to randomly generate Binomial and Bernoulli trials.\n",
    "\n",
    "In the first part, you learned about Bernoulli and Binomial using their formulas to obtain the probability distributions.\n",
    "You can also perform random sampling. What you're basically doing then is selecting a sample from a statistical population in a way that every possible sample has a predetermined probability of being selected.\n",
    "\n",
    "Applied to our example, imagine that 1 represents scoring a penalty and 0 represents missing. If $p = 0.8$, if you'll do 100 penalties in a row, you'd expect to have about 80 hits. The reason why it's not exactly 80 is because uncertainty plays a role, and this is exactly what you can model using the NumPy random library! Below, we're using `np.random.binomial` to generate how many successful penalties we have when shooting 100 penalties."
   ]
  },
  {
   "cell_type": "code",
   "execution_count": 4,
   "metadata": {},
   "outputs": [
    {
     "data": {
      "text/plain": [
       "78"
      ]
     },
     "execution_count": 4,
     "metadata": {},
     "output_type": "execute_result"
    }
   ],
   "source": [
    "import numpy as np\n",
    "np.random.seed(123) # set a seed to get the same results\n",
    "np.random.binomial(100, 0.8)"
   ]
  },
  {
   "cell_type": "markdown",
   "metadata": {},
   "source": [
    "Now, let's try this again:"
   ]
  },
  {
   "cell_type": "code",
   "execution_count": 5,
   "metadata": {},
   "outputs": [
    {
     "data": {
      "text/plain": [
       "82"
      ]
     },
     "execution_count": 5,
     "metadata": {},
     "output_type": "execute_result"
    }
   ],
   "source": [
    "np.random.binomial(100, 0.8)"
   ]
  },
  {
   "cell_type": "markdown",
   "metadata": {},
   "source": [
    "And again:"
   ]
  },
  {
   "cell_type": "code",
   "execution_count": 6,
   "metadata": {},
   "outputs": [
    {
     "data": {
      "text/plain": [
       "83"
      ]
     },
     "execution_count": 6,
     "metadata": {},
     "output_type": "execute_result"
    }
   ],
   "source": [
    "np.random.binomial(100, 0.8)"
   ]
  },
  {
   "cell_type": "markdown",
   "metadata": {},
   "source": [
    "You can see how this number changes slightly every time and fluctuates around 100. If you'd repeat this many times, and then divide the final result by the number of times you've repeated this, you could expect that the amount of successes will converge to 80. The for loop below does this 500 times. "
   ]
  },
  {
   "cell_type": "code",
   "execution_count": 19,
   "metadata": {},
   "outputs": [],
   "source": [
    "iteration = []\n",
    "for loop in range(500):\n",
    "    iteration.append(np.random.binomial(100, 0.8))\n",
    "    np_it = np.array(iteration)"
   ]
  },
  {
   "cell_type": "code",
   "execution_count": 27,
   "metadata": {},
   "outputs": [
    {
     "data": {
      "text/plain": [
       "3"
      ]
     },
     "execution_count": 27,
     "metadata": {},
     "output_type": "execute_result"
    }
   ],
   "source": [
    "np.random.binomial(3, 0.8)"
   ]
  },
  {
   "cell_type": "markdown",
   "metadata": {},
   "source": [
    "Now we'll use `np.random.binomial` to illustrate out findings regarding penalties above. Let's keep track of how many times we observe 0 goals, 1 goal, 2 goals, and 3 goals and find the probabilities through simulation. Now, lets repeat our experiment 10000 times."
   ]
  },
  {
   "cell_type": "code",
   "execution_count": 28,
   "metadata": {},
   "outputs": [],
   "source": [
    "n = 10000\n",
    "iteration = []\n",
    "for loop in range(n):\n",
    "    iteration.append(np.random.binomial(3, 0.8))\n",
    "    np_it = np.array(iteration)"
   ]
  },
  {
   "cell_type": "code",
   "execution_count": 29,
   "metadata": {},
   "outputs": [
    {
     "data": {
      "text/plain": [
       "array([2, 2, 3, ..., 3, 3, 3])"
      ]
     },
     "execution_count": 29,
     "metadata": {},
     "output_type": "execute_result"
    }
   ],
   "source": [
    "np_it"
   ]
  },
  {
   "cell_type": "markdown",
   "metadata": {},
   "source": [
    "np_it stores the total penalty goal outcomes (0 to 3) for each of the 10000 iterations. Now using `np.unique()` with the optional argument `return_counts`, you get the levels of the $k$ as in your Binomial formula along with how often they occurred when running 10000 trials."
   ]
  },
  {
   "cell_type": "code",
   "execution_count": 22,
   "metadata": {},
   "outputs": [
    {
     "name": "stdout",
     "output_type": "stream",
     "text": [
      "[0 1 2 3]\n",
      "[  74  971 3905 5050]\n"
     ]
    }
   ],
   "source": [
    "values, counts = np.unique(np_it, return_counts=True)\n",
    "print(values)\n",
    "print(counts)"
   ]
  },
  {
   "cell_type": "markdown",
   "metadata": {},
   "source": [
    "## Visualize these results"
   ]
  },
  {
   "cell_type": "markdown",
   "metadata": {},
   "source": [
    "Now, let's use these results and visualize them in terms of fractions. You'll see that these fractions approximations of the values as calculated in the Binomial distribution formula. "
   ]
  },
  {
   "cell_type": "code",
   "execution_count": 23,
   "metadata": {},
   "outputs": [
    {
     "data": {
      "image/png": "[encoded data removed]",
      "text/plain": [
       "<Figure size 432x288 with 1 Axes>"
      ]
     },
     "metadata": {
      "needs_background": "light"
     },
     "output_type": "display_data"
    }
   ],
   "source": [
    "import matplotlib.pyplot as plt\n",
    "plt.bar(values, counts/10000, align='center', alpha=0.9)\n",
    "plt.xticks(values)\n",
    "plt.ylabel('Fraction')\n",
    "plt.title('Number of penalty goals')\n",
    "plt.show()"
   ]
  },
  {
   "cell_type": "markdown",
   "metadata": {},
   "source": [
    "Let's now look at the values and compare them with the theoretical result. Recall that the theoretical result was: $\\{0.008,0.096,0.384,0.512\\}$."
   ]
  },
  {
   "cell_type": "code",
   "execution_count": 18,
   "metadata": {},
   "outputs": [
    {
     "data": {
      "text/plain": [
       "array([0.0055, 0.0913, 0.3959, 0.5073])"
      ]
     },
     "execution_count": 18,
     "metadata": {},
     "output_type": "execute_result"
    }
   ],
   "source": [
    "counts/10000"
   ]
  },
  {
   "cell_type": "markdown",
   "metadata": {},
   "source": [
    "This seems pretty close to our theoretical result! Try using many more trials (50,000 or 100,000) and see how the sampling result changes!"
   ]
  },
  {
   "cell_type": "markdown",
   "metadata": {},
   "source": [
    "## Summary\n",
    "\n",
    "In this lecture you learned about the Bernoulli and Binomial distributions, you learned how to use the formula for the Binomial distribution, and how to simulate Binomial trials to get to approximations of the Binomial distribution probabilities."
   ]
  }
 ],
 "metadata": {
  "kernelspec": {
   "display_name": "Python 3",
   "language": "python",
   "name": "python3"
  },
  "language_info": {
   "codemirror_mode": {
    "name": "ipython",
    "version": 3
   },
   "file_extension": ".py",
   "mimetype": "text/x-python",
   "name": "python",
   "nbconvert_exporter": "python",
   "pygments_lexer": "ipython3",
   "version": "3.6.6"
  }
 },
 "nbformat": 4,
 "nbformat_minor": 2
}
